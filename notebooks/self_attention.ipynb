{
 "cells": [
  {
   "cell_type": "code",
   "execution_count": 3,
   "metadata": {},
   "outputs": [],
   "source": [
    "import numpy as np\n",
    "import math"
   ]
  },
  {
   "cell_type": "code",
   "execution_count": 4,
   "metadata": {},
   "outputs": [],
   "source": [
    "word_length = 4\n",
    "d_k = 4\n",
    "d_v = 4"
   ]
  },
  {
   "cell_type": "code",
   "execution_count": 6,
   "metadata": {},
   "outputs": [],
   "source": [
    "q = np.random.randn(word_length,d_k)\n",
    "k = np.random.randn(word_length,d_k)\n",
    "v = np.random.randn(word_length,d_v)"
   ]
  },
  {
   "cell_type": "code",
   "execution_count": 7,
   "metadata": {},
   "outputs": [
    {
     "data": {
      "text/plain": [
       "(array([[-0.89851985,  1.24643261,  0.73448966,  0.84493691],\n",
       "        [ 0.45293123, -2.54448195,  0.87368793, -0.12069959],\n",
       "        [-0.27368476,  1.60814322,  1.52297335,  1.52482414],\n",
       "        [-0.55501072, -1.63416275,  2.41434228, -0.36553828]]),\n",
       " array([[ 0.99390035, -1.20326989,  1.73393676, -0.27021454],\n",
       "        [-0.02314744,  1.14796711, -0.51777105, -1.43905519],\n",
       "        [ 0.98878515,  1.19418911,  1.60795918, -0.64834353],\n",
       "        [ 1.25478702, -1.2702181 , -1.14530342,  0.63643865]]),\n",
       " array([[-1.34621976, -0.18472472,  0.01541767, -0.31632188],\n",
       "        [-0.20285227, -0.43858106,  0.03521245, -0.58719645],\n",
       "        [-0.05879793, -1.29813798,  0.72028208, -0.3979344 ],\n",
       "        [ 0.82753433,  0.84304767, -0.11530589,  0.31041019]]))"
      ]
     },
     "execution_count": 7,
     "metadata": {},
     "output_type": "execute_result"
    }
   ],
   "source": [
    "q,k,v"
   ]
  },
  {
   "cell_type": "code",
   "execution_count": null,
   "metadata": {},
   "outputs": [],
   "source": []
  }
 ],
 "metadata": {
  "kernelspec": {
   "display_name": "Python 3 (ipykernel)",
   "language": "python",
   "name": "python3"
  },
  "language_info": {
   "codemirror_mode": {
    "name": "ipython",
    "version": 3
   },
   "file_extension": ".py",
   "mimetype": "text/x-python",
   "name": "python",
   "nbconvert_exporter": "python",
   "pygments_lexer": "ipython3",
   "version": "3.12.7"
  }
 },
 "nbformat": 4,
 "nbformat_minor": 4
}
